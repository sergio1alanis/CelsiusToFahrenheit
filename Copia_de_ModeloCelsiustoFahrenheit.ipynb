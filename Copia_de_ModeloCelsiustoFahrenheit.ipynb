{
  "nbformat": 4,
  "nbformat_minor": 0,
  "metadata": {
    "colab": {
      "provenance": [],
      "authorship_tag": "ABX9TyNVyZj6v6BIHd1herJcVIG5",
      "include_colab_link": true
    },
    "kernelspec": {
      "name": "python3",
      "display_name": "Python 3"
    },
    "language_info": {
      "name": "python"
    }
  },
  "cells": [
    {
      "cell_type": "markdown",
      "metadata": {
        "id": "view-in-github",
        "colab_type": "text"
      },
      "source": [
        "<a href=\"https://colab.research.google.com/github/sergio1alanis/CelsiusToFahrenheit/blob/main/Copia_de_ModeloCelsiustoFahrenheit.ipynb\" target=\"_parent\"><img src=\"https://colab.research.google.com/assets/colab-badge.svg\" alt=\"Open In Colab\"/></a>"
      ]
    },
    {
      "cell_type": "code",
      "execution_count": null,
      "metadata": {
        "id": "n7_7bVftztwA"
      },
      "outputs": [],
      "source": [
        "import tensorflow as tf\n",
        "import numpy as np\n"
      ]
    },
    {
      "cell_type": "code",
      "source": [
        "celsius = np.array([-40,-30,10,0,8,11, 15,22,30,38], dtype=float)\n",
        "fahrenheit = np.array([-40,-20,-30,14,32,46,59,72, 80,100],dtype=float)\n",
        "capaEntrada = tf.keras.layers.Dense(units=3,input_shape=[1])\n",
        "capaOculta=tf.keras.layers.Dense(units=3)\n",
        "capaSalida=tf.keras.layers.Dense(units=1)\n",
        "Modelo=tf.keras.Sequential([capaEntrada, capaOculta,capaSalida])\n",
        "Modelo.compile(optimizer=tf.keras.optimizers.Adam(0.1),loss='mean_squared_error')\n",
        "print(\"Comenzando entrenamiento...\")\n",
        "historial = Modelo.fit(celsius,fahrenheit, epochs=1000,verbose=False)\n",
        "print(\"¡Modelo entrenado\")\n",
        "import matplotlib.pyplot as plt\n",
        "plt.xlabel(\"Numero de epoca\")\n",
        "plt.ylabel(\"Magnitud de perdida\")\n",
        "plt.plot(historial.history[\"loss\"])"
      ],
      "metadata": {
        "id": "N3nZKd1G0iBB"
      },
      "execution_count": null,
      "outputs": []
    },
    {
      "cell_type": "code",
      "source": [
        "print(\"Hagamos una prediccion\")\n",
        "grados=37.0\n",
        "resultado=Modelo.predict([grados])\n",
        "print(\"Los grados celsius son \" + str (grados) +\"°\")\n",
        "print(\"El resultado es\"+ str (resultado) + \"Fahrenheit\")"
      ],
      "metadata": {
        "id": "Q-0vEuSnTjfm"
      },
      "execution_count": null,
      "outputs": []
    },
    {
      "cell_type": "code",
      "source": [
        "# Ejemplo de predicción con el modelo entrenado\n",
        "nuevos_celsius = np.array([10, 20, 30, 37], dtype=float)\n",
        "\n",
        "# Utilizar el modelo para predecir los valores Fahrenheit\n",
        "resultados_predichos = Modelo.predict(nuevos_celsius)\n",
        "\n",
        "# Mostrar los resultados\n",
        "for celsius, resultado_predicho in zip(nuevos_celsius, resultados_predichos):\n",
        "    print(f\"Grados Celsius: {celsius}°, Predicción Fahrenheit: {resultado_predicho[0]}°\")\n"
      ],
      "metadata": {
        "id": "9PcpUiqNek_V"
      },
      "execution_count": null,
      "outputs": []
    }
  ]
}